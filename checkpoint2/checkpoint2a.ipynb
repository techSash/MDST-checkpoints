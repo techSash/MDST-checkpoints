{
 "cells": [
  {
   "cell_type": "markdown",
   "metadata": {
    "colab_type": "text",
    "id": "0a8IYAJUshu1"
   },
   "source": [
    "# Exercises"
   ]
  },
  {
   "cell_type": "markdown",
   "metadata": {},
   "source": [
    "These exercises are a mix of Python and pandas/EDA practice. Most should be no more than a few lines of code! "
   ]
  },
  {
   "cell_type": "code",
   "execution_count": 1,
   "metadata": {
    "colab": {},
    "colab_type": "code",
    "id": "Jo6wuTgkshu1"
   },
   "outputs": [
    {
     "name": "stdout",
     "output_type": "stream",
     "text": [
      "[4, 5, 6]\n",
      "[6, 5, 4]\n",
      "[1, 4, 9, 16, 25, 36]\n"
     ]
    }
   ],
   "source": [
    "# here is a Python list:\n",
    "\n",
    "a = [1, 2, 3, 4, 5, 6]\n",
    "\n",
    "# get a list containing the last 3 elements of a\n",
    "a_last3 = a[-3:]\n",
    "print(a_last3)\n",
    "\n",
    "# reverse the list\n",
    "a_last3.reverse()\n",
    "print(a_last3)\n",
    "\n",
    "# get a list where each entry in a is squared (so the new list is [1, 4, 9, 16, 25, 36])\n",
    "a_squared = [i**2 for i in a]\n",
    "print(a_squared)"
   ]
  },
  {
   "cell_type": "code",
   "execution_count": 2,
   "metadata": {
    "colab": {},
    "colab_type": "code",
    "id": "qANtg5kQshu2"
   },
   "outputs": [
    {
     "data": {
      "text/plain": [
       "array([ 1,  4,  9, 16, 25, 36])"
      ]
     },
     "execution_count": 2,
     "metadata": {},
     "output_type": "execute_result"
    }
   ],
   "source": [
    "import numpy as np\n",
    "# create a numpy array from this list\n",
    "b = np.array(a_squared) # change this\n",
    "b"
   ]
  },
  {
   "cell_type": "code",
   "execution_count": 3,
   "metadata": {
    "colab": {},
    "colab_type": "code",
    "id": "91CXRflLshu4"
   },
   "outputs": [
    {
     "data": {
      "text/plain": [
       "15.166666666666666"
      ]
     },
     "execution_count": 3,
     "metadata": {},
     "output_type": "execute_result"
    }
   ],
   "source": [
    "# find the mean of b\n",
    "b_mean = np.mean(b)\n",
    "b_mean"
   ]
  },
  {
   "cell_type": "code",
   "execution_count": 4,
   "metadata": {
    "colab": {},
    "colab_type": "code",
    "id": "ZJZFwzQfshu9"
   },
   "outputs": [
    {
     "data": {
      "text/plain": [
       "array([   1,   16,   81,  256,  625, 1296])"
      ]
     },
     "execution_count": 4,
     "metadata": {},
     "output_type": "execute_result"
    }
   ],
   "source": [
    "# get a list where each entry in b is squared (so the new numpy array is [1, 4, 9, 16, 25, 36])\n",
    "# use a different (numpy-specific) approach\n",
    "b_square = np.square(b)\n",
    "b_square"
   ]
  },
  {
   "cell_type": "code",
   "execution_count": 5,
   "metadata": {
    "colab": {},
    "colab_type": "code",
    "id": "ajbA5rCCshu5"
   },
   "outputs": [
    {
     "data": {
      "text/plain": [
       "array([[ 1,  4,  9],\n",
       "       [16, 25, 36]])"
      ]
     },
     "execution_count": 5,
     "metadata": {},
     "output_type": "execute_result"
    }
   ],
   "source": [
    "# change b from a length-6 list to a 2x3 matrix\n",
    "b2d = np.reshape(b, [2,3])\n",
    "b2d"
   ]
  },
  {
   "cell_type": "code",
   "execution_count": 6,
   "metadata": {
    "colab": {},
    "colab_type": "code",
    "id": "wancU_PWshu6"
   },
   "outputs": [
    {
     "data": {
      "text/plain": [
       "array([ 4.66666667, 25.66666667])"
      ]
     },
     "execution_count": 6,
     "metadata": {},
     "output_type": "execute_result"
    }
   ],
   "source": [
    "# find the mean value of each row\n",
    "b2d_mean_row = np.mean(b2d, axis=1)\n",
    "b2d_mean_row"
   ]
  },
  {
   "cell_type": "code",
   "execution_count": 7,
   "metadata": {
    "colab": {},
    "colab_type": "code",
    "id": "N3hXBrBtshu7"
   },
   "outputs": [
    {
     "data": {
      "text/plain": [
       "array([ 8.5, 14.5, 22.5])"
      ]
     },
     "execution_count": 7,
     "metadata": {},
     "output_type": "execute_result"
    }
   ],
   "source": [
    "# find the mean value of each column\n",
    "b2d_mean_col = np.mean(b2d, axis=0)\n",
    "b2d_mean_col"
   ]
  },
  {
   "cell_type": "code",
   "execution_count": 8,
   "metadata": {
    "colab": {},
    "colab_type": "code",
    "id": "GvbO8gBXshu8"
   },
   "outputs": [
    {
     "data": {
      "text/plain": [
       "array([ 9, 36])"
      ]
     },
     "execution_count": 8,
     "metadata": {},
     "output_type": "execute_result"
    }
   ],
   "source": [
    "# find the third column of b\n",
    "third_col = b2d[:, 2]\n",
    "third_col"
   ]
  },
  {
   "cell_type": "code",
   "execution_count": 9,
   "metadata": {
    "colab": {},
    "colab_type": "code",
    "id": "WzCQ5HOJshvA"
   },
   "outputs": [],
   "source": [
    "# load in the \"starbucks_clean.csv\" dataset\n",
    "import pandas as pd\n",
    "\n",
    "starbucks_clean = pd.read_csv('../data/starbucks_clean.csv')"
   ]
  },
  {
   "cell_type": "code",
   "execution_count": 10,
   "metadata": {
    "colab": {},
    "colab_type": "code",
    "id": "rIoxaSxHshvB"
   },
   "outputs": [
    {
     "data": {
      "text/plain": [
       "201.0772727272727"
      ]
     },
     "execution_count": 10,
     "metadata": {},
     "output_type": "execute_result"
    }
   ],
   "source": [
    "# this is nutritional info for starbucks items\n",
    "# let's see if we can answer some questions\n",
    "\n",
    "# what is the average # calories across all items?\n",
    "calories_mean = starbucks_clean['calories'].mean()\n",
    "calories_mean"
   ]
  },
  {
   "cell_type": "code",
   "execution_count": 11,
   "metadata": {
    "colab": {},
    "colab_type": "code",
    "id": "ABX7i49FshvD"
   },
   "outputs": [
    {
     "data": {
      "text/plain": [
       "30"
      ]
     },
     "execution_count": 11,
     "metadata": {},
     "output_type": "execute_result"
    }
   ],
   "source": [
    "# how many different categories of beverages are there?\n",
    "bev_cat = len(starbucks_clean['beverage'].unique())\n",
    "bev_cat"
   ]
  },
  {
   "cell_type": "code",
   "execution_count": 12,
   "metadata": {
    "colab": {},
    "colab_type": "code",
    "id": "P9QatZAzshvE"
   },
   "outputs": [
    {
     "data": {
      "text/plain": [
       "beverage_category\n",
       "classic espresso drinks             140.172414\n",
       "coffee                                4.250000\n",
       "frappuccino blended coffee          276.944444\n",
       "frappuccino blended crme            233.076923\n",
       "frappuccino light blended coffee    162.500000\n",
       "shaken iced beverages               110.769231\n",
       "signature espresso drinks           250.000000\n",
       "smoothies                           282.500000\n",
       "tazo tea drinks                     206.666667\n",
       "Name: calories, dtype: float64"
      ]
     },
     "execution_count": 12,
     "metadata": {},
     "output_type": "execute_result"
    }
   ],
   "source": [
    "# what is the average # calories for each beverage category?\n",
    "avg_cal_based_on_bev_cat = starbucks_clean.groupby('beverage_category').mean().loc[:, 'calories']\n",
    "avg_cal_based_on_bev_cat"
   ]
  },
  {
   "cell_type": "code",
   "execution_count": 13,
   "metadata": {
    "colab": {},
    "colab_type": "code",
    "id": "y8KEpYNkshvG"
   },
   "outputs": [
    {
     "data": {
      "text/plain": [
       "'Whole Milk'"
      ]
     },
     "execution_count": 13,
     "metadata": {},
     "output_type": "execute_result"
    }
   ],
   "source": [
    "# what beverage preparation includes the most sugar on average?\n",
    "bev_prep_most_sugar_avg = starbucks_clean.groupby('beverage_prep').mean().loc[:, 'sugars']\n",
    "bev_prep_most_sugar_avg[bev_prep_most_sugar_avg == max(bev_prep_most_sugar_avg)].index[0]"
   ]
  },
  {
   "cell_type": "code",
   "execution_count": 14,
   "metadata": {
    "colab": {},
    "colab_type": "code",
    "id": "MnbCEJw8shvH"
   },
   "outputs": [
    {
     "data": {
      "text/plain": [
       "beverage\n",
       "banana chocolate smoothie                      20.000000\n",
       "brewed coffee                                   0.500000\n",
       "caff americano                                  1.500000\n",
       "caff latte                                     35.000000\n",
       "caff mocha without whipped cream               30.000000\n",
       "cappuccino                                     22.500000\n",
       "caramel                                        11.000000\n",
       "caramel apple spice without whipped cream       0.000000\n",
       "caramel macchiato                              28.333333\n",
       "caramel without whipped cream                  12.000000\n",
       "coffee                                         12.333333\n",
       "espresso                                        0.000000\n",
       "hot chocolate without whipped cream            35.000000\n",
       "iced brewed coffee with classic syrup           0.000000\n",
       "iced brewed coffee with milk  classic syrup     8.000000\n",
       "java chip                                      11.666667\n",
       "java chip without whipped cream                12.555556\n",
       "mocha                                          11.000000\n",
       "mocha without whipped cream                    12.000000\n",
       "orange mango banana smoothie                   10.000000\n",
       "shaken iced tazo tea with classic syrup         0.000000\n",
       "skinny latte any flavour                       33.750000\n",
       "strawberries  crme without whipped cream       15.000000\n",
       "strawberry banana smoothie                     10.000000\n",
       "tazo chai tea latte                            21.666667\n",
       "tazo fullleaf red tea latte vanilla rooibos    20.833333\n",
       "tazo green tea latte                           39.166667\n",
       "vanilla bean without whipped cream             11.250000\n",
       "vanilla latte or other flavoured latte         32.916667\n",
       "white chocolate mocha without whipped cream    41.250000\n",
       "Name: calcium, dtype: float64"
      ]
     },
     "execution_count": 14,
     "metadata": {},
     "output_type": "execute_result"
    }
   ],
   "source": [
    "# what is the average % daily value calcium content for each beverage?\n",
    "avg_calc_per_bev = starbucks_clean.groupby('beverage').mean().loc[:, 'calcium']\n",
    "avg_calc_per_bev"
   ]
  },
  {
   "cell_type": "code",
   "execution_count": 15,
   "metadata": {
    "colab": {},
    "colab_type": "code",
    "id": "Nv5dksj_shvJ"
   },
   "outputs": [
    {
     "data": {
      "text/plain": [
       "'caff latte Venti Nonfat Milk'"
      ]
     },
     "execution_count": 15,
     "metadata": {},
     "output_type": "execute_result"
    }
   ],
   "source": [
    "# It's bulking season. What drink should Naitian get so that he maximizes protein but minimizes calories?\n",
    "# (you can use more than one line for this one)\n",
    "# there are multiple valid approaches you can take for this (with different answers)\n",
    "# I know that you want more calories for bulking season but whatever this is MDST, not Michigan Muscle Club okay\n",
    "\n",
    "clories_median = starbucks_clean['calories'].median()\n",
    "protein_median = starbucks_clean['protein'].median()\n",
    "which_drink = starbucks_clean.loc[:, ['beverage', 'beverage_prep', 'protein', 'calories']]\n",
    "samples = which_drink[(which_drink['calories'] < clories_median) & (which_drink['protein'] > protein_median)]\n",
    "best_drink = samples.loc[samples['protein'].idxmax()]\n",
    "best_drink['beverage'] + \" \" + best_drink['beverage_prep']"
   ]
  },
  {
   "cell_type": "code",
   "execution_count": 16,
   "metadata": {},
   "outputs": [
    {
     "data": {
      "image/png": "[encoded data removed]",
      "text/plain": [
       "<Figure size 360x360 with 1 Axes>"
      ]
     },
     "metadata": {
      "needs_background": "light"
     },
     "output_type": "display_data"
    }
   ],
   "source": [
    "# plot the distribution of the number of calories in drinks using matplotlib\n",
    "import matplotlib.pyplot as plt\n",
    "%matplotlib inline\n",
    "\n",
    "starbucks_clean['calories'].hist(figsize=(5,5));\n",
    "plt.xlabel('Number of calories')\n",
    "plt.title('Distribution of the number of calories')\n",
    "plt.show()"
   ]
  },
  {
   "cell_type": "code",
   "execution_count": 17,
   "metadata": {},
   "outputs": [
    {
     "data": {
      "image/png": "[encoded data removed]",
      "text/plain": [
       "<Figure size 432x288 with 1 Axes>"
      ]
     },
     "metadata": {
      "needs_background": "light"
     },
     "output_type": "display_data"
    }
   ],
   "source": [
    "# plot the same distribution using seaborn. what about a density plot instead?\n",
    "import seaborn as sns\n",
    "\n",
    "sns.kdeplot(starbucks_clean['calories'])\n",
    "plt.xlabel('Number of calories')\n",
    "plt.title(\"Distribution of the number of calories\")\n",
    "plt.show()"
   ]
  },
  {
   "cell_type": "code",
   "execution_count": 18,
   "metadata": {},
   "outputs": [
    {
     "data": {
      "image/png": "[encoded data removed]",
      "text/plain": [
       "<Figure size 432x288 with 1 Axes>"
      ]
     },
     "metadata": {
      "needs_background": "light"
     },
     "output_type": "display_data"
    }
   ],
   "source": [
    "# plot calories against total fat using seaborn\n",
    "sns.scatterplot(starbucks_clean['calories'], starbucks_clean['totalfat'])\n",
    "plt.title('Calories against total fat')\n",
    "plt.show()"
   ]
  },
  {
   "cell_type": "code",
   "execution_count": 19,
   "metadata": {},
   "outputs": [
    {
     "data": {
      "image/png": "[encoded data removed]",
      "text/plain": [
       "<Figure size 432x288 with 1 Axes>"
      ]
     },
     "metadata": {
      "needs_background": "light"
     },
     "output_type": "display_data"
    }
   ],
   "source": [
    "# plot the distribution of calories in Short, Tall, Grande, and Venti drinks\n",
    "# (you can use multiple lines for this)\n",
    "# twist: you should also include the Nonfat Milk drinks that also have an associated size.\n",
    "\n",
    "# you can decide how you want to visualize this. Colors? Small multiples? Density vs histogram?\n",
    "# the starbucks is your oyster.\n",
    "\n",
    "short = starbucks_clean[(starbucks_clean['beverage_prep']=='Short') | (starbucks_clean['beverage_prep']=='Short Nonfat Milk')].loc[:, 'calories']\n",
    "tall = starbucks_clean[(starbucks_clean['beverage_prep']=='Tall') | (starbucks_clean['beverage_prep']=='Tall Nonfat Milk')].loc[:, 'calories']\n",
    "grande = starbucks_clean[(starbucks_clean['beverage_prep']=='Grande') | (starbucks_clean['beverage_prep']=='Grande Nonfat Milk')].loc[:, 'calories']\n",
    "venti = starbucks_clean[(starbucks_clean['beverage_prep']=='Venti') | (starbucks_clean['beverage_prep']=='Venti Nonfat Milk')].loc[:, 'calories']\n",
    "\n",
    "sns.distplot(short, hist=False, label='Short')\n",
    "sns.distplot(tall, hist=False, label='Tall')\n",
    "sns.distplot(grande, hist=False, label='Grande')\n",
    "sns.distplot(venti, hist=False, label='Venti')\n",
    "plt.show()"
   ]
  }
 ],
 "metadata": {
  "kernelspec": {
   "display_name": "Python 3",
   "language": "python",
   "name": "python3"
  },
  "language_info": {
   "codemirror_mode": {
    "name": "ipython",
    "version": 3
   },
   "file_extension": ".py",
   "mimetype": "text/x-python",
   "name": "python",
   "nbconvert_exporter": "python",
   "pygments_lexer": "ipython3",
   "version": "3.8.3"
  }
 },
 "nbformat": 4,
 "nbformat_minor": 5
}
